{
 "cells": [
  {
   "cell_type": "code",
   "execution_count": null,
   "id": "b4ed3c12-7efc-4c5a-acf9-b22f38916223",
   "metadata": {},
   "outputs": [],
   "source": [
    "import pandas as pd\n",
    "from zipfile import ZipFile\n",
    "\n",
    "with ZipFile(\"../fa-cleanup/test-data/openbeta-routes.zip\") as myzip:\n",
    "    ca=myzip.open(\"ca-routes.jsonlines\")\n",
    "    nv=myzip.open(\"nv-routes.jsonlines\")\n",
    "    \n",
    "\n",
    "# 'lines=True' indicates jsonlines format\n",
    "df = pd.concat([pd.read_json(ca, lines=True), pd.read_json(nv, lines=True)])\n",
    "\n",
    "df.sample(5)"
   ]
  },
  {
   "cell_type": "code",
   "execution_count": null,
   "id": "2a40330b-23f6-4ba3-a220-3d16eee79fc2",
   "metadata": {},
   "outputs": [],
   "source": [
    "df.fa"
   ]
  }
 ],
 "metadata": {
  "kernelspec": {
   "display_name": "Python 3 (ipykernel)",
   "language": "python",
   "name": "python3"
  },
  "language_info": {
   "codemirror_mode": {
    "name": "ipython",
    "version": 3
   },
   "file_extension": ".py",
   "mimetype": "text/x-python",
   "name": "python",
   "nbconvert_exporter": "python",
   "pygments_lexer": "ipython3",
   "version": "3.7.9"
  }
 },
 "nbformat": 4,
 "nbformat_minor": 5
}
