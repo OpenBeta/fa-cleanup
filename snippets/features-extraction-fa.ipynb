{
 "cells": [
  {
   "cell_type": "code",
   "execution_count": 1,
   "id": "c7a15724",
   "metadata": {},
   "outputs": [],
   "source": [
    "import os\n",
    "import re\n",
    "import pandas as pd\n",
    "import numpy as np\n",
    "from glob import glob\n",
    "from datetime import datetime"
   ]
  },
  {
   "cell_type": "markdown",
   "id": "dc84424b",
   "metadata": {},
   "source": [
    "# Working sample data"
   ]
  },
  {
   "cell_type": "code",
   "execution_count": 2,
   "id": "6faae45b",
   "metadata": {},
   "outputs": [],
   "source": [
    "sample = \"\"\"\n",
    "ID  FA\n",
    "\n",
    "1  Eric Wright and Frank Robertson, 2008         \n",
    "2  John Long, Lynn Hill & Joanne Urioste '83    \n",
    "3  L. Hill, 1993\n",
    "\"\"\""
   ]
  },
  {
   "cell_type": "code",
   "execution_count": 3,
   "id": "e649ef1c",
   "metadata": {},
   "outputs": [
    {
     "data": {
      "text/plain": [
       "['ID  FA',\n",
       " '',\n",
       " '1  Eric Wright and Frank Robertson, 2008         ',\n",
       " \"2  John Long, Lynn Hill & Joanne Urioste '83    \",\n",
       " '3  L. Hill, 1993']"
      ]
     },
     "execution_count": 3,
     "metadata": {},
     "output_type": "execute_result"
    }
   ],
   "source": [
    "sample.strip().splitlines()"
   ]
  },
  {
   "cell_type": "code",
   "execution_count": 4,
   "id": "e71f07ef",
   "metadata": {},
   "outputs": [
    {
     "data": {
      "text/plain": [
       "['ID', 'FA']"
      ]
     },
     "execution_count": 4,
     "metadata": {},
     "output_type": "execute_result"
    }
   ],
   "source": [
    "header = sample.strip().splitlines()[0].split(\"  \")\n",
    "header"
   ]
  },
  {
   "cell_type": "code",
   "execution_count": 5,
   "id": "d6b95205",
   "metadata": {},
   "outputs": [
    {
     "data": {
      "text/plain": [
       "[['1', 'Eric Wright and Frank Robertson, 2008'],\n",
       " ['2', \"John Long, Lynn Hill & Joanne Urioste '83\"],\n",
       " ['3', 'L. Hill, 1993']]"
      ]
     },
     "execution_count": 5,
     "metadata": {},
     "output_type": "execute_result"
    }
   ],
   "source": [
    "rows = [r.split(\"  \")[:2] for r in sample.strip().splitlines()[1:] if r]\n",
    "rows"
   ]
  },
  {
   "cell_type": "markdown",
   "id": "3c814e90",
   "metadata": {},
   "source": [
    "# Built init dataframe"
   ]
  },
  {
   "cell_type": "code",
   "execution_count": 6,
   "id": "395f5981",
   "metadata": {},
   "outputs": [],
   "source": [
    "df = pd.DataFrame(rows, columns=header)"
   ]
  },
  {
   "cell_type": "code",
   "execution_count": 7,
   "id": "754621b5",
   "metadata": {},
   "outputs": [],
   "source": [
    "df.set_index('ID', inplace=True)"
   ]
  },
  {
   "cell_type": "code",
   "execution_count": 8,
   "id": "a2397c06",
   "metadata": {},
   "outputs": [],
   "source": [
    "df.columns = ['fa']"
   ]
  },
  {
   "cell_type": "code",
   "execution_count": 9,
   "id": "949c0d00",
   "metadata": {},
   "outputs": [
    {
     "data": {
      "text/html": [
       "<div>\n",
       "<style scoped>\n",
       "    .dataframe tbody tr th:only-of-type {\n",
       "        vertical-align: middle;\n",
       "    }\n",
       "\n",
       "    .dataframe tbody tr th {\n",
       "        vertical-align: top;\n",
       "    }\n",
       "\n",
       "    .dataframe thead th {\n",
       "        text-align: right;\n",
       "    }\n",
       "</style>\n",
       "<table border=\"1\" class=\"dataframe\">\n",
       "  <thead>\n",
       "    <tr style=\"text-align: right;\">\n",
       "      <th></th>\n",
       "      <th>fa</th>\n",
       "    </tr>\n",
       "    <tr>\n",
       "      <th>ID</th>\n",
       "      <th></th>\n",
       "    </tr>\n",
       "  </thead>\n",
       "  <tbody>\n",
       "    <tr>\n",
       "      <th>1</th>\n",
       "      <td>Eric Wright and Frank Robertson, 2008</td>\n",
       "    </tr>\n",
       "    <tr>\n",
       "      <th>2</th>\n",
       "      <td>John Long, Lynn Hill &amp; Joanne Urioste '83</td>\n",
       "    </tr>\n",
       "    <tr>\n",
       "      <th>3</th>\n",
       "      <td>L. Hill, 1993</td>\n",
       "    </tr>\n",
       "  </tbody>\n",
       "</table>\n",
       "</div>"
      ],
      "text/plain": [
       "                                           fa\n",
       "ID                                           \n",
       "1       Eric Wright and Frank Robertson, 2008\n",
       "2   John Long, Lynn Hill & Joanne Urioste '83\n",
       "3                               L. Hill, 1993"
      ]
     },
     "execution_count": 9,
     "metadata": {},
     "output_type": "execute_result"
    }
   ],
   "source": [
    "df"
   ]
  },
  {
   "cell_type": "code",
   "execution_count": 10,
   "id": "a429181c",
   "metadata": {},
   "outputs": [
    {
     "data": {
      "text/html": [
       "<div>\n",
       "<style scoped>\n",
       "    .dataframe tbody tr th:only-of-type {\n",
       "        vertical-align: middle;\n",
       "    }\n",
       "\n",
       "    .dataframe tbody tr th {\n",
       "        vertical-align: top;\n",
       "    }\n",
       "\n",
       "    .dataframe thead th {\n",
       "        text-align: right;\n",
       "    }\n",
       "</style>\n",
       "<table border=\"1\" class=\"dataframe\">\n",
       "  <thead>\n",
       "    <tr style=\"text-align: right;\">\n",
       "      <th></th>\n",
       "      <th>fa</th>\n",
       "    </tr>\n",
       "    <tr>\n",
       "      <th>ID</th>\n",
       "      <th></th>\n",
       "    </tr>\n",
       "  </thead>\n",
       "  <tbody>\n",
       "    <tr>\n",
       "      <th>1</th>\n",
       "      <td>Eric Wright and Frank Robertson, 2008</td>\n",
       "    </tr>\n",
       "    <tr>\n",
       "      <th>2</th>\n",
       "      <td>John Long, Lynn Hill &amp; Joanne Urioste '83</td>\n",
       "    </tr>\n",
       "    <tr>\n",
       "      <th>3</th>\n",
       "      <td>L. Hill, 1993</td>\n",
       "    </tr>\n",
       "  </tbody>\n",
       "</table>\n",
       "</div>"
      ],
      "text/plain": [
       "                                           fa\n",
       "ID                                           \n",
       "1       Eric Wright and Frank Robertson, 2008\n",
       "2   John Long, Lynn Hill & Joanne Urioste '83\n",
       "3                               L. Hill, 1993"
      ]
     },
     "execution_count": 10,
     "metadata": {},
     "output_type": "execute_result"
    }
   ],
   "source": [
    "df"
   ]
  },
  {
   "cell_type": "markdown",
   "id": "a49dabca",
   "metadata": {},
   "source": [
    "# Feature Extraction"
   ]
  },
  {
   "cell_type": "code",
   "execution_count": 11,
   "id": "771ccbad",
   "metadata": {},
   "outputs": [
    {
     "data": {
      "text/plain": [
       "ID\n",
       "1        Eric Wright and Frank Robertson, 2008\n",
       "2    John Long, Lynn Hill & Joanne Urioste '83\n",
       "3                                L. Hill, 1993\n",
       "Name: fa, dtype: object"
      ]
     },
     "execution_count": 11,
     "metadata": {},
     "output_type": "execute_result"
    }
   ],
   "source": [
    "df['fa']"
   ]
  },
  {
   "cell_type": "markdown",
   "id": "04531059",
   "metadata": {},
   "source": [
    "## Extract Year"
   ]
  },
  {
   "cell_type": "code",
   "execution_count": 12,
   "id": "3780e478",
   "metadata": {},
   "outputs": [
    {
     "data": {
      "text/html": [
       "<div>\n",
       "<style scoped>\n",
       "    .dataframe tbody tr th:only-of-type {\n",
       "        vertical-align: middle;\n",
       "    }\n",
       "\n",
       "    .dataframe tbody tr th {\n",
       "        vertical-align: top;\n",
       "    }\n",
       "\n",
       "    .dataframe thead th {\n",
       "        text-align: right;\n",
       "    }\n",
       "</style>\n",
       "<table border=\"1\" class=\"dataframe\">\n",
       "  <thead>\n",
       "    <tr style=\"text-align: right;\">\n",
       "      <th></th>\n",
       "      <th>fa</th>\n",
       "      <th>year</th>\n",
       "    </tr>\n",
       "    <tr>\n",
       "      <th>ID</th>\n",
       "      <th></th>\n",
       "      <th></th>\n",
       "    </tr>\n",
       "  </thead>\n",
       "  <tbody>\n",
       "    <tr>\n",
       "      <th>1</th>\n",
       "      <td>Eric Wright and Frank Robertson, 2008</td>\n",
       "      <td>2008</td>\n",
       "    </tr>\n",
       "    <tr>\n",
       "      <th>2</th>\n",
       "      <td>John Long, Lynn Hill &amp; Joanne Urioste '83</td>\n",
       "      <td>83</td>\n",
       "    </tr>\n",
       "    <tr>\n",
       "      <th>3</th>\n",
       "      <td>L. Hill, 1993</td>\n",
       "      <td>1993</td>\n",
       "    </tr>\n",
       "  </tbody>\n",
       "</table>\n",
       "</div>"
      ],
      "text/plain": [
       "                                           fa  year\n",
       "ID                                                 \n",
       "1       Eric Wright and Frank Robertson, 2008  2008\n",
       "2   John Long, Lynn Hill & Joanne Urioste '83    83\n",
       "3                               L. Hill, 1993  1993"
      ]
     },
     "execution_count": 12,
     "metadata": {},
     "output_type": "execute_result"
    }
   ],
   "source": [
    "df['year'] = df['fa'].str.extract(r\"(\\d+)\\s*$\", expand=False)\n",
    "df"
   ]
  },
  {
   "cell_type": "code",
   "execution_count": 13,
   "id": "ff06eb32",
   "metadata": {},
   "outputs": [
    {
     "data": {
      "text/html": [
       "<div>\n",
       "<style scoped>\n",
       "    .dataframe tbody tr th:only-of-type {\n",
       "        vertical-align: middle;\n",
       "    }\n",
       "\n",
       "    .dataframe tbody tr th {\n",
       "        vertical-align: top;\n",
       "    }\n",
       "\n",
       "    .dataframe thead th {\n",
       "        text-align: right;\n",
       "    }\n",
       "</style>\n",
       "<table border=\"1\" class=\"dataframe\">\n",
       "  <thead>\n",
       "    <tr style=\"text-align: right;\">\n",
       "      <th></th>\n",
       "      <th>fa</th>\n",
       "      <th>year</th>\n",
       "      <th>fa_text</th>\n",
       "    </tr>\n",
       "    <tr>\n",
       "      <th>ID</th>\n",
       "      <th></th>\n",
       "      <th></th>\n",
       "      <th></th>\n",
       "    </tr>\n",
       "  </thead>\n",
       "  <tbody>\n",
       "    <tr>\n",
       "      <th>1</th>\n",
       "      <td>Eric Wright and Frank Robertson, 2008</td>\n",
       "      <td>2008</td>\n",
       "      <td>Eric Wright and Frank Robertson</td>\n",
       "    </tr>\n",
       "    <tr>\n",
       "      <th>2</th>\n",
       "      <td>John Long, Lynn Hill &amp; Joanne Urioste '83</td>\n",
       "      <td>83</td>\n",
       "      <td>John Long, Lynn Hill &amp; Joanne Urioste</td>\n",
       "    </tr>\n",
       "    <tr>\n",
       "      <th>3</th>\n",
       "      <td>L. Hill, 1993</td>\n",
       "      <td>1993</td>\n",
       "      <td>L. Hill</td>\n",
       "    </tr>\n",
       "  </tbody>\n",
       "</table>\n",
       "</div>"
      ],
      "text/plain": [
       "                                           fa  year  \\\n",
       "ID                                                    \n",
       "1       Eric Wright and Frank Robertson, 2008  2008   \n",
       "2   John Long, Lynn Hill & Joanne Urioste '83    83   \n",
       "3                               L. Hill, 1993  1993   \n",
       "\n",
       "                                  fa_text  \n",
       "ID                                         \n",
       "1         Eric Wright and Frank Robertson  \n",
       "2   John Long, Lynn Hill & Joanne Urioste  \n",
       "3                                 L. Hill  "
      ]
     },
     "execution_count": 13,
     "metadata": {},
     "output_type": "execute_result"
    }
   ],
   "source": [
    "df['fa_text'] = df.apply(lambda x: \n",
    "                     x['fa'][::-1].replace(x['year'][::-1], \"\", 1)[::-1], \n",
    "                 axis=1) \\\n",
    "                .str.strip(\", '\")\n",
    "\n",
    "df"
   ]
  },
  {
   "cell_type": "markdown",
   "id": "f61cdaee",
   "metadata": {},
   "source": [
    "## Split Climbers"
   ]
  },
  {
   "cell_type": "code",
   "execution_count": 14,
   "id": "11967b7e",
   "metadata": {},
   "outputs": [
    {
     "data": {
      "text/plain": [
       "ID\n",
       "1           Eric Wright;Frank Robertson\n",
       "2    John Long;Lynn Hill;Joanne Urioste\n",
       "3                               L. Hill\n",
       "Name: climbers, dtype: object"
      ]
     },
     "execution_count": 14,
     "metadata": {},
     "output_type": "execute_result"
    }
   ],
   "source": [
    "# split climbers by all possible separators\n",
    "# expand them in rows \n",
    "# clean them\n",
    "# join them all back by \";\"\n",
    "df['climbers'] = df['fa_text'] \\\n",
    "    .str.split(\" and |&|,\") \\\n",
    "    .explode() \\\n",
    "    .str.strip() \\\n",
    "    .groupby(['ID']).apply(lambda x: ';'.join(x.astype(str)))\n",
    "df['climbers']"
   ]
  },
  {
   "cell_type": "code",
   "execution_count": 15,
   "id": "df59c67b",
   "metadata": {},
   "outputs": [
    {
     "data": {
      "text/html": [
       "<div>\n",
       "<style scoped>\n",
       "    .dataframe tbody tr th:only-of-type {\n",
       "        vertical-align: middle;\n",
       "    }\n",
       "\n",
       "    .dataframe tbody tr th {\n",
       "        vertical-align: top;\n",
       "    }\n",
       "\n",
       "    .dataframe thead th {\n",
       "        text-align: right;\n",
       "    }\n",
       "</style>\n",
       "<table border=\"1\" class=\"dataframe\">\n",
       "  <thead>\n",
       "    <tr style=\"text-align: right;\">\n",
       "      <th></th>\n",
       "      <th>fa</th>\n",
       "      <th>year</th>\n",
       "      <th>fa_text</th>\n",
       "      <th>climbers</th>\n",
       "    </tr>\n",
       "    <tr>\n",
       "      <th>ID</th>\n",
       "      <th></th>\n",
       "      <th></th>\n",
       "      <th></th>\n",
       "      <th></th>\n",
       "    </tr>\n",
       "  </thead>\n",
       "  <tbody>\n",
       "    <tr>\n",
       "      <th>1</th>\n",
       "      <td>Eric Wright and Frank Robertson, 2008</td>\n",
       "      <td>2008</td>\n",
       "      <td>Eric Wright and Frank Robertson</td>\n",
       "      <td>Eric Wright;Frank Robertson</td>\n",
       "    </tr>\n",
       "    <tr>\n",
       "      <th>2</th>\n",
       "      <td>John Long, Lynn Hill &amp; Joanne Urioste '83</td>\n",
       "      <td>83</td>\n",
       "      <td>John Long, Lynn Hill &amp; Joanne Urioste</td>\n",
       "      <td>John Long;Lynn Hill;Joanne Urioste</td>\n",
       "    </tr>\n",
       "    <tr>\n",
       "      <th>3</th>\n",
       "      <td>L. Hill, 1993</td>\n",
       "      <td>1993</td>\n",
       "      <td>L. Hill</td>\n",
       "      <td>L. Hill</td>\n",
       "    </tr>\n",
       "  </tbody>\n",
       "</table>\n",
       "</div>"
      ],
      "text/plain": [
       "                                           fa  year  \\\n",
       "ID                                                    \n",
       "1       Eric Wright and Frank Robertson, 2008  2008   \n",
       "2   John Long, Lynn Hill & Joanne Urioste '83    83   \n",
       "3                               L. Hill, 1993  1993   \n",
       "\n",
       "                                  fa_text                            climbers  \n",
       "ID                                                                             \n",
       "1         Eric Wright and Frank Robertson         Eric Wright;Frank Robertson  \n",
       "2   John Long, Lynn Hill & Joanne Urioste  John Long;Lynn Hill;Joanne Urioste  \n",
       "3                                 L. Hill                             L. Hill  "
      ]
     },
     "execution_count": 15,
     "metadata": {},
     "output_type": "execute_result"
    }
   ],
   "source": [
    "df"
   ]
  },
  {
   "cell_type": "markdown",
   "id": "cd7703c7",
   "metadata": {},
   "source": [
    "## Normalize climber names\n",
    "\n",
    "Prepare a manual decision dict to rename climbers names as much as possible"
   ]
  },
  {
   "cell_type": "code",
   "execution_count": 16,
   "id": "118eeb0e",
   "metadata": {},
   "outputs": [
    {
     "data": {
      "text/plain": [
       "ID\n",
       "1        Eric Wright\n",
       "1    Frank Robertson\n",
       "2     Joanne Urioste\n",
       "2          John Long\n",
       "3            L. Hill\n",
       "2          Lynn Hill\n",
       "Name: climbers, dtype: object"
      ]
     },
     "execution_count": 16,
     "metadata": {},
     "output_type": "execute_result"
    }
   ],
   "source": [
    "df['climbers'].str.split(\";\", expand=False)\\\n",
    "    .explode() \\\n",
    "    .sort_values()"
   ]
  },
  {
   "cell_type": "code",
   "execution_count": 17,
   "id": "eed42d20",
   "metadata": {},
   "outputs": [
    {
     "data": {
      "text/plain": [
       "{'Eric Wright': 'Eric Wright',\n",
       " 'Frank Robertson': 'Frank Robertson',\n",
       " 'Joanne Urioste': 'Joanne Urioste',\n",
       " 'John Long': 'John Long',\n",
       " 'L. Hill': 'L. Hill',\n",
       " 'Lynn Hill': 'Lynn Hill'}"
      ]
     },
     "execution_count": 17,
     "metadata": {},
     "output_type": "execute_result"
    }
   ],
   "source": [
    "renamings = {k: k for k in \n",
    "                df['climbers'].str.split(\";\", expand=False)\\\n",
    "                .explode() \\\n",
    "                .sort_values().unique()}\n",
    "renamings"
   ]
  },
  {
   "cell_type": "markdown",
   "id": "0a4bf748",
   "metadata": {},
   "source": [
    "Copy and paste above and manual edit as desired.\n",
    "This is probably most suitable step to take in Prophecies application if it becomes pretty big task."
   ]
  },
  {
   "cell_type": "code",
   "execution_count": 18,
   "id": "a752def5",
   "metadata": {},
   "outputs": [],
   "source": [
    "my_manual_renamings = {\n",
    "    #'Eric Wright': 'Eric Wright',\n",
    "    #'Frank Robertson': 'Frank Robertson',\n",
    "    #'Joanne Urioste': 'Joanne Urioste',\n",
    "    #'John Long': 'John Long',\n",
    "    'L. Hill': 'Lynn Hill',\n",
    "    #'Lynn Hill': 'Lynn Hill'\n",
    "}"
   ]
  },
  {
   "cell_type": "code",
   "execution_count": 19,
   "id": "fb0a7813",
   "metadata": {},
   "outputs": [],
   "source": [
    "def run_all_renamings(x):\n",
    "    for k, v in my_manual_renamings.items():\n",
    "        x = x.replace(k, v)\n",
    "    return x"
   ]
  },
  {
   "cell_type": "code",
   "execution_count": 20,
   "id": "cb0e54e7",
   "metadata": {},
   "outputs": [],
   "source": [
    "df['climbers'] = df['climbers'].map(run_all_renamings)"
   ]
  },
  {
   "cell_type": "markdown",
   "id": "7494f0bc",
   "metadata": {},
   "source": [
    "## Expand Climbers in columns"
   ]
  },
  {
   "cell_type": "code",
   "execution_count": 21,
   "id": "4db57868",
   "metadata": {},
   "outputs": [],
   "source": [
    "dft = df['climbers'].str.split(\";\", expand=True)\n",
    "dft.columns = ['climber_' + str(i+1) for i in dft.columns]\n",
    "df = pd.concat([df, dft], axis=1)"
   ]
  },
  {
   "cell_type": "code",
   "execution_count": 22,
   "id": "aa3aac6c",
   "metadata": {},
   "outputs": [
    {
     "data": {
      "text/html": [
       "<div>\n",
       "<style scoped>\n",
       "    .dataframe tbody tr th:only-of-type {\n",
       "        vertical-align: middle;\n",
       "    }\n",
       "\n",
       "    .dataframe tbody tr th {\n",
       "        vertical-align: top;\n",
       "    }\n",
       "\n",
       "    .dataframe thead th {\n",
       "        text-align: right;\n",
       "    }\n",
       "</style>\n",
       "<table border=\"1\" class=\"dataframe\">\n",
       "  <thead>\n",
       "    <tr style=\"text-align: right;\">\n",
       "      <th></th>\n",
       "      <th>fa</th>\n",
       "      <th>year</th>\n",
       "      <th>fa_text</th>\n",
       "      <th>climbers</th>\n",
       "      <th>climber_1</th>\n",
       "      <th>climber_2</th>\n",
       "      <th>climber_3</th>\n",
       "    </tr>\n",
       "    <tr>\n",
       "      <th>ID</th>\n",
       "      <th></th>\n",
       "      <th></th>\n",
       "      <th></th>\n",
       "      <th></th>\n",
       "      <th></th>\n",
       "      <th></th>\n",
       "      <th></th>\n",
       "    </tr>\n",
       "  </thead>\n",
       "  <tbody>\n",
       "    <tr>\n",
       "      <th>1</th>\n",
       "      <td>Eric Wright and Frank Robertson, 2008</td>\n",
       "      <td>2008</td>\n",
       "      <td>Eric Wright and Frank Robertson</td>\n",
       "      <td>Eric Wright;Frank Robertson</td>\n",
       "      <td>Eric Wright</td>\n",
       "      <td>Frank Robertson</td>\n",
       "      <td>None</td>\n",
       "    </tr>\n",
       "    <tr>\n",
       "      <th>2</th>\n",
       "      <td>John Long, Lynn Hill &amp; Joanne Urioste '83</td>\n",
       "      <td>83</td>\n",
       "      <td>John Long, Lynn Hill &amp; Joanne Urioste</td>\n",
       "      <td>John Long;Lynn Hill;Joanne Urioste</td>\n",
       "      <td>John Long</td>\n",
       "      <td>Lynn Hill</td>\n",
       "      <td>Joanne Urioste</td>\n",
       "    </tr>\n",
       "    <tr>\n",
       "      <th>3</th>\n",
       "      <td>L. Hill, 1993</td>\n",
       "      <td>1993</td>\n",
       "      <td>L. Hill</td>\n",
       "      <td>Lynn Hill</td>\n",
       "      <td>Lynn Hill</td>\n",
       "      <td>None</td>\n",
       "      <td>None</td>\n",
       "    </tr>\n",
       "  </tbody>\n",
       "</table>\n",
       "</div>"
      ],
      "text/plain": [
       "                                           fa  year  \\\n",
       "ID                                                    \n",
       "1       Eric Wright and Frank Robertson, 2008  2008   \n",
       "2   John Long, Lynn Hill & Joanne Urioste '83    83   \n",
       "3                               L. Hill, 1993  1993   \n",
       "\n",
       "                                  fa_text                            climbers  \\\n",
       "ID                                                                              \n",
       "1         Eric Wright and Frank Robertson         Eric Wright;Frank Robertson   \n",
       "2   John Long, Lynn Hill & Joanne Urioste  John Long;Lynn Hill;Joanne Urioste   \n",
       "3                                 L. Hill                           Lynn Hill   \n",
       "\n",
       "      climber_1        climber_2       climber_3  \n",
       "ID                                                \n",
       "1   Eric Wright  Frank Robertson            None  \n",
       "2     John Long        Lynn Hill  Joanne Urioste  \n",
       "3     Lynn Hill             None            None  "
      ]
     },
     "execution_count": 22,
     "metadata": {},
     "output_type": "execute_result"
    }
   ],
   "source": [
    "df"
   ]
  },
  {
   "cell_type": "code",
   "execution_count": null,
   "id": "1987b954",
   "metadata": {},
   "outputs": [],
   "source": []
  },
  {
   "cell_type": "markdown",
   "id": "0e0c10c4",
   "metadata": {},
   "source": [
    "# Normalize year"
   ]
  },
  {
   "cell_type": "code",
   "execution_count": 23,
   "id": "6009d438",
   "metadata": {},
   "outputs": [],
   "source": [
    "def normalize_year(y):\n",
    "    y = int(y)\n",
    "    if y < 22:\n",
    "        # it is only 2 digits and passed 2000s\n",
    "        y += 2000\n",
    "    elif y < 100:\n",
    "        # it is only 2 digits and before 2000s\n",
    "        y += 1900\n",
    "    return y"
   ]
  },
  {
   "cell_type": "code",
   "execution_count": 24,
   "id": "aa204313",
   "metadata": {},
   "outputs": [],
   "source": [
    "df.insert(\n",
    "    df.columns.tolist().index('year')+1,\n",
    "    'year_normalized',\n",
    "    df['year'].map(normalize_year)\n",
    ")"
   ]
  },
  {
   "cell_type": "code",
   "execution_count": 25,
   "id": "5f6f1c1f",
   "metadata": {},
   "outputs": [
    {
     "data": {
      "text/html": [
       "<div>\n",
       "<style scoped>\n",
       "    .dataframe tbody tr th:only-of-type {\n",
       "        vertical-align: middle;\n",
       "    }\n",
       "\n",
       "    .dataframe tbody tr th {\n",
       "        vertical-align: top;\n",
       "    }\n",
       "\n",
       "    .dataframe thead th {\n",
       "        text-align: right;\n",
       "    }\n",
       "</style>\n",
       "<table border=\"1\" class=\"dataframe\">\n",
       "  <thead>\n",
       "    <tr style=\"text-align: right;\">\n",
       "      <th></th>\n",
       "      <th>fa</th>\n",
       "      <th>year</th>\n",
       "      <th>year_normalized</th>\n",
       "      <th>fa_text</th>\n",
       "      <th>climbers</th>\n",
       "      <th>climber_1</th>\n",
       "      <th>climber_2</th>\n",
       "      <th>climber_3</th>\n",
       "    </tr>\n",
       "    <tr>\n",
       "      <th>ID</th>\n",
       "      <th></th>\n",
       "      <th></th>\n",
       "      <th></th>\n",
       "      <th></th>\n",
       "      <th></th>\n",
       "      <th></th>\n",
       "      <th></th>\n",
       "      <th></th>\n",
       "    </tr>\n",
       "  </thead>\n",
       "  <tbody>\n",
       "    <tr>\n",
       "      <th>1</th>\n",
       "      <td>Eric Wright and Frank Robertson, 2008</td>\n",
       "      <td>2008</td>\n",
       "      <td>2008</td>\n",
       "      <td>Eric Wright and Frank Robertson</td>\n",
       "      <td>Eric Wright;Frank Robertson</td>\n",
       "      <td>Eric Wright</td>\n",
       "      <td>Frank Robertson</td>\n",
       "      <td>None</td>\n",
       "    </tr>\n",
       "    <tr>\n",
       "      <th>2</th>\n",
       "      <td>John Long, Lynn Hill &amp; Joanne Urioste '83</td>\n",
       "      <td>83</td>\n",
       "      <td>1983</td>\n",
       "      <td>John Long, Lynn Hill &amp; Joanne Urioste</td>\n",
       "      <td>John Long;Lynn Hill;Joanne Urioste</td>\n",
       "      <td>John Long</td>\n",
       "      <td>Lynn Hill</td>\n",
       "      <td>Joanne Urioste</td>\n",
       "    </tr>\n",
       "    <tr>\n",
       "      <th>3</th>\n",
       "      <td>L. Hill, 1993</td>\n",
       "      <td>1993</td>\n",
       "      <td>1993</td>\n",
       "      <td>L. Hill</td>\n",
       "      <td>Lynn Hill</td>\n",
       "      <td>Lynn Hill</td>\n",
       "      <td>None</td>\n",
       "      <td>None</td>\n",
       "    </tr>\n",
       "  </tbody>\n",
       "</table>\n",
       "</div>"
      ],
      "text/plain": [
       "                                           fa  year  year_normalized  \\\n",
       "ID                                                                     \n",
       "1       Eric Wright and Frank Robertson, 2008  2008             2008   \n",
       "2   John Long, Lynn Hill & Joanne Urioste '83    83             1983   \n",
       "3                               L. Hill, 1993  1993             1993   \n",
       "\n",
       "                                  fa_text                            climbers  \\\n",
       "ID                                                                              \n",
       "1         Eric Wright and Frank Robertson         Eric Wright;Frank Robertson   \n",
       "2   John Long, Lynn Hill & Joanne Urioste  John Long;Lynn Hill;Joanne Urioste   \n",
       "3                                 L. Hill                           Lynn Hill   \n",
       "\n",
       "      climber_1        climber_2       climber_3  \n",
       "ID                                                \n",
       "1   Eric Wright  Frank Robertson            None  \n",
       "2     John Long        Lynn Hill  Joanne Urioste  \n",
       "3     Lynn Hill             None            None  "
      ]
     },
     "execution_count": 25,
     "metadata": {},
     "output_type": "execute_result"
    }
   ],
   "source": [
    "df"
   ]
  },
  {
   "cell_type": "markdown",
   "id": "40e5cddf",
   "metadata": {},
   "source": [
    "# Save output"
   ]
  },
  {
   "cell_type": "code",
   "execution_count": 29,
   "id": "448760a6",
   "metadata": {},
   "outputs": [],
   "source": [
    "!mkdir -p data"
   ]
  },
  {
   "cell_type": "code",
   "execution_count": 30,
   "id": "02a35a8c",
   "metadata": {},
   "outputs": [],
   "source": [
    "df.to_csv('data/features-extraction-fa.csv', \n",
    "          index=True)"
   ]
  },
  {
   "cell_type": "code",
   "execution_count": null,
   "id": "aea53cb7",
   "metadata": {},
   "outputs": [],
   "source": []
  }
 ],
 "metadata": {
  "kernelspec": {
   "display_name": "Python 3",
   "language": "python",
   "name": "python3"
  },
  "language_info": {
   "codemirror_mode": {
    "name": "ipython",
    "version": 3
   },
   "file_extension": ".py",
   "mimetype": "text/x-python",
   "name": "python",
   "nbconvert_exporter": "python",
   "pygments_lexer": "ipython3",
   "version": "3.8.10"
  },
  "toc": {
   "base_numbering": 1,
   "nav_menu": {},
   "number_sections": true,
   "sideBar": true,
   "skip_h1_title": false,
   "title_cell": "Table of Contents",
   "title_sidebar": "Contents",
   "toc_cell": false,
   "toc_position": {},
   "toc_section_display": true,
   "toc_window_display": true
  },
  "varInspector": {
   "cols": {
    "lenName": 16,
    "lenType": 16,
    "lenVar": 40
   },
   "kernels_config": {
    "python": {
     "delete_cmd_postfix": "",
     "delete_cmd_prefix": "del ",
     "library": "var_list.py",
     "varRefreshCmd": "print(var_dic_list())"
    },
    "r": {
     "delete_cmd_postfix": ") ",
     "delete_cmd_prefix": "rm(",
     "library": "var_list.r",
     "varRefreshCmd": "cat(var_dic_list()) "
    }
   },
   "types_to_exclude": [
    "module",
    "function",
    "builtin_function_or_method",
    "instance",
    "_Feature"
   ],
   "window_display": false
  }
 },
 "nbformat": 4,
 "nbformat_minor": 5
}
